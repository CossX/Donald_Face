{
 "cells": [
  {
   "cell_type": "code",
   "execution_count": 1,
   "metadata": {
    "scrolled": true
   },
   "outputs": [],
   "source": [
    "import dlib\n",
    "from skimage import io\n",
    "from scipy.spatial import distance"
   ]
  },
  {
   "cell_type": "markdown",
   "metadata": {},
   "source": [
    "## Создание модели для поиска и нахождения лиц в dlib (заранее обученные модели)"
   ]
  },
  {
   "cell_type": "code",
   "execution_count": 2,
   "metadata": {},
   "outputs": [],
   "source": [
    "sp = dlib.shape_predictor('shape_predictor_68_face_landmarks.dat')\n",
    "facerec = dlib.face_recognition_model_v1('dlib_face_recognition_resnet_model_v1.dat')\n",
    "detector = dlib.get_frontal_face_detector()"
   ]
  },
  {
   "cell_type": "markdown",
   "metadata": {},
   "source": [
    "## Фотография, по которой обучается сеть"
   ]
  },
  {
   "cell_type": "code",
   "execution_count": 3,
   "metadata": {},
   "outputs": [],
   "source": [
    "img = io.imread('main.jpg')"
   ]
  },
  {
   "cell_type": "markdown",
   "metadata": {},
   "source": [
    "## Открытие фотографии средствами dlib"
   ]
  },
  {
   "cell_type": "code",
   "execution_count": 4,
   "metadata": {},
   "outputs": [],
   "source": [
    "win1 = dlib.image_window()\n",
    "win1.clear_overlay()\n",
    "win1.set_image(img)"
   ]
  },
  {
   "cell_type": "markdown",
   "metadata": {},
   "source": [
    "## Определение лица на фотографии"
   ]
  },
  {
   "cell_type": "code",
   "execution_count": 5,
   "metadata": {},
   "outputs": [],
   "source": [
    "dets = detector(img, 1)"
   ]
  },
  {
   "cell_type": "code",
   "execution_count": 6,
   "metadata": {},
   "outputs": [
    {
     "name": "stdout",
     "output_type": "stream",
     "text": [
      "Detection 0: Left: 379 Top: 171 Right: 646 Bottom: 439\n"
     ]
    }
   ],
   "source": [
    "for k, d in enumerate(dets):\n",
    "    print(\"Detection {}: Left: {} Top: {} Right: {} Bottom: {}\".format(\n",
    "        k, d.left(), d.top(), d.right(), d.bottom()))\n",
    "    shape = sp(img, d)\n",
    "    win1.clear_overlay()\n",
    "    win1.add_overlay(d)\n",
    "    win1.add_overlay(shape)"
   ]
  },
  {
   "cell_type": "markdown",
   "metadata": {},
   "source": [
    "##  Извлечение дескриптора из лица"
   ]
  },
  {
   "cell_type": "code",
   "execution_count": 7,
   "metadata": {},
   "outputs": [],
   "source": [
    "face_descriptor1 = facerec.compute_face_descriptor(img, shape)"
   ]
  },
  {
   "cell_type": "code",
   "execution_count": 8,
   "metadata": {},
   "outputs": [
    {
     "name": "stdout",
     "output_type": "stream",
     "text": [
      "-0.0917393\n",
      "0.181079\n",
      "0.0398593\n",
      "0.0185607\n",
      "-0.128258\n",
      "0.0534374\n",
      "0.00454799\n",
      "-0.214946\n",
      "0.0759426\n",
      "-0.126466\n",
      "0.256605\n",
      "0.01014\n",
      "-0.245921\n",
      "-0.105109\n",
      "-0.0341344\n",
      "0.151691\n",
      "-0.0809061\n",
      "-0.149372\n",
      "-0.194337\n",
      "-0.14913\n",
      "0.0401326\n",
      "0.0904289\n",
      "-0.0325876\n",
      "0.000619267\n",
      "-0.0940337\n",
      "-0.248166\n",
      "-0.0709905\n",
      "-0.0607919\n",
      "0.01974\n",
      "-0.11376\n",
      "0.0190549\n",
      "0.0653273\n",
      "-0.16379\n",
      "-0.0754859\n",
      "-0.00612966\n",
      "0.00452518\n",
      "-0.0527586\n",
      "-0.0614064\n",
      "0.170149\n",
      "-0.0207411\n",
      "-0.107481\n",
      "0.0562028\n",
      "0.0287936\n",
      "0.306277\n",
      "0.205194\n",
      "-0.0388165\n",
      "0.0365662\n",
      "-0.0858828\n",
      "0.0974551\n",
      "-0.209563\n",
      "-0.0630982\n",
      "0.138982\n",
      "0.0744808\n",
      "0.0952079\n",
      "0.0311628\n",
      "-0.120442\n",
      "-0.0133753\n",
      "0.103931\n",
      "-0.120346\n",
      "0.0481607\n",
      "0.017086\n",
      "-0.261205\n",
      "-0.0863602\n",
      "-0.113647\n",
      "0.0995989\n",
      "0.0271848\n",
      "-0.0471813\n",
      "-0.139515\n",
      "0.144895\n",
      "-0.137821\n",
      "-0.129287\n",
      "0.017718\n",
      "-0.131577\n",
      "-0.141395\n",
      "-0.336741\n",
      "0.0422562\n",
      "0.412482\n",
      "0.166857\n",
      "-0.237219\n",
      "0.00590921\n",
      "-0.0164314\n",
      "0.0194943\n",
      "0.070743\n",
      "0.0743119\n",
      "-0.00845708\n",
      "-0.0966166\n",
      "-0.122164\n",
      "0.0721134\n",
      "0.205948\n",
      "-0.0735196\n",
      "-0.0432819\n",
      "0.228927\n",
      "0.0116448\n",
      "-0.0403834\n",
      "0.0554245\n",
      "0.101047\n",
      "-0.10307\n",
      "-0.0252822\n",
      "-0.0781583\n",
      "-0.00340312\n",
      "0.0567187\n",
      "-0.114861\n",
      "0.0220728\n",
      "0.0974082\n",
      "-0.121638\n",
      "0.216128\n",
      "-0.0478463\n",
      "0.0358693\n",
      "-0.0394636\n",
      "-0.0971419\n",
      "-0.0387477\n",
      "0.0563293\n",
      "0.188344\n",
      "-0.157663\n",
      "0.181924\n",
      "0.216147\n",
      "-0.0704076\n",
      "0.165569\n",
      "0.063273\n",
      "0.104501\n",
      "-0.0918492\n",
      "-0.012555\n",
      "-0.177947\n",
      "-0.18546\n",
      "0.0532006\n",
      "0.0107287\n",
      "0.0353002\n",
      "0.0201097\n"
     ]
    }
   ],
   "source": [
    "print(face_descriptor1)"
   ]
  },
  {
   "cell_type": "markdown",
   "metadata": {},
   "source": [
    "# Загрузка и обработка фото, на которой необходимо определить лицо"
   ]
  },
  {
   "cell_type": "code",
   "execution_count": 13,
   "metadata": {},
   "outputs": [
    {
     "name": "stdout",
     "output_type": "stream",
     "text": [
      "Detection 0: Left: 451 Top: 92 Right: 913 Bottom: 554\n"
     ]
    }
   ],
   "source": [
    "img = io.imread('D2.jpg')\n",
    "win2 = dlib.image_window()\n",
    "win2.clear_overlay()\n",
    "win2.set_image(img)\n",
    "dets_webcam = detector(img, 1)\n",
    "for k, d in enumerate(dets_webcam):\n",
    "    print(\"Detection {}: Left: {} Top: {} Right: {} Bottom: {}\".format(\n",
    "        k, d.left(), d.top(), d.right(), d.bottom()))\n",
    "    shape = sp(img, d)\n",
    "    win2.clear_overlay()\n",
    "    win2.add_overlay(d)\n",
    "    win2.add_overlay(shape)"
   ]
  },
  {
   "cell_type": "code",
   "execution_count": 14,
   "metadata": {},
   "outputs": [],
   "source": [
    "face_descriptor2 = facerec.compute_face_descriptor(img, shape)"
   ]
  },
  {
   "cell_type": "markdown",
   "metadata": {},
   "source": [
    "## Расчет Евклидова расстояния между двумя дексрипторами лиц"
   ]
  },
  {
   "cell_type": "code",
   "execution_count": 15,
   "metadata": {},
   "outputs": [
    {
     "name": "stdout",
     "output_type": "stream",
     "text": [
      "0.5856199376823936\n"
     ]
    }
   ],
   "source": [
    "a = distance.euclidean(face_descriptor1, face_descriptor2)\n",
    "print(a)"
   ]
  },
  {
   "cell_type": "markdown",
   "metadata": {},
   "source": [
    "## Вывод результата"
   ]
  },
  {
   "cell_type": "code",
   "execution_count": 16,
   "metadata": {},
   "outputs": [
    {
     "name": "stdout",
     "output_type": "stream",
     "text": [
      "Hello, Mr. Donald!\n"
     ]
    }
   ],
   "source": [
    "if a <= 0.6:\n",
    "    print('Hello, Mr. Donald!')\n",
    "else:\n",
    "    print('Не знаю, кто это!')\n",
    "    "
   ]
  },
  {
   "cell_type": "code",
   "execution_count": null,
   "metadata": {},
   "outputs": [],
   "source": []
  },
  {
   "cell_type": "code",
   "execution_count": null,
   "metadata": {},
   "outputs": [],
   "source": []
  }
 ],
 "metadata": {
  "kernelspec": {
   "display_name": "Python 3",
   "language": "python",
   "name": "python3"
  },
  "language_info": {
   "codemirror_mode": {
    "name": "ipython",
    "version": 3
   },
   "file_extension": ".py",
   "mimetype": "text/x-python",
   "name": "python",
   "nbconvert_exporter": "python",
   "pygments_lexer": "ipython3",
   "version": "3.5.6"
  }
 },
 "nbformat": 4,
 "nbformat_minor": 4
}
